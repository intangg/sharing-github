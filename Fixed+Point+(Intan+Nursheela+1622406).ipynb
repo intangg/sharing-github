{
 "cells": [
  {
   "cell_type": "code",
   "execution_count": 17,
   "metadata": {
    "collapsed": true
   },
   "outputs": [],
   "source": [
    "#converges\n",
    "#question c\n",
    "def g(x):\n",
    "    k =(1/2)*((10-x**3)**1/2)\n",
    "    return k"
   ]
  },
  {
   "cell_type": "code",
   "execution_count": 18,
   "metadata": {
    "collapsed": true
   },
   "outputs": [],
   "source": [
    "#question d\n",
    "#def g(x):\n",
    "#    k =((10/(4+x))**(1/2))\n",
    "#    return k"
   ]
  },
  {
   "cell_type": "code",
   "execution_count": 19,
   "metadata": {
    "collapsed": true
   },
   "outputs": [],
   "source": [
    "#question e\n",
    "#def g(x):\n",
    "#    k = x-((x**3+4*x**2-10)/(3*x**2+8*x))\n",
    "#    return k"
   ]
  },
  {
   "cell_type": "code",
   "execution_count": 20,
   "metadata": {
    "collapsed": true
   },
   "outputs": [],
   "source": [
    "def fixed_point (g,p0,tol,n0):\n",
    "    i=1\n",
    "    print('i\\t roots\\t\\t tolerance')\n",
    "    \n",
    "    while i<=n0:\n",
    "        p = g(p0)\n",
    "        print (i,p,abs(p-p0))\n",
    "        \n",
    "        if abs(p-p0) < tol:\n",
    "            print ('The procedure was successful')\n",
    "            return\n",
    "        \n",
    "        i+=1\n",
    "        p0=p\n",
    "    print ('The procedure was unsuccessful')"
   ]
  },
  {
   "cell_type": "code",
   "execution_count": 21,
   "metadata": {
    "collapsed": false
   },
   "outputs": [
    {
     "name": "stdout",
     "output_type": "stream",
     "text": [
      "i\t roots\t\t tolerance\n",
      "1 1.65625 0.15625\n",
      "2 1.3641586303710938 0.29209136962890625\n",
      "3 1.8653494898784708 0.5011908595073771\n",
      "4 0.8773657195671536 0.9879837703113172\n",
      "5 2.331157414619457 1.4537916950523035\n",
      "6 -0.6670492075243297 2.998206622143787\n",
      "7 2.574201660876044 3.241250868400374\n",
      "8 -1.7644959589806808 4.338697619856725\n",
      "9 3.8734157166380956 5.637911675618776\n",
      "10 -12.028552258666956 15.901967975305052\n",
      "The procedure was unsuccessful\n"
     ]
    }
   ],
   "source": [
    "fixed_point (g,1.5,0.00001,10)"
   ]
  },
  {
   "cell_type": "code",
   "execution_count": null,
   "metadata": {
    "collapsed": true
   },
   "outputs": [],
   "source": []
  }
 ],
 "metadata": {
  "kernelspec": {
   "display_name": "Python 3",
   "language": "python",
   "name": "python3"
  },
  "language_info": {
   "codemirror_mode": {
    "name": "ipython",
    "version": 3
   },
   "file_extension": ".py",
   "mimetype": "text/x-python",
   "name": "python",
   "nbconvert_exporter": "python",
   "pygments_lexer": "ipython3",
   "version": "3.6.0"
  }
 },
 "nbformat": 4,
 "nbformat_minor": 2
}
