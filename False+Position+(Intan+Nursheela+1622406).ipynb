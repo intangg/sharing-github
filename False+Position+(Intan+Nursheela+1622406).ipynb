{
 "cells": [
  {
   "cell_type": "code",
   "execution_count": 1,
   "metadata": {
    "collapsed": true
   },
   "outputs": [],
   "source": [
    "from math import cos\n",
    "def f(x):\n",
    "    fx=cos(x)-x\n",
    "    return fx"
   ]
  },
  {
   "cell_type": "code",
   "execution_count": 10,
   "metadata": {
    "collapsed": true
   },
   "outputs": [],
   "source": [
    "def false (p0,p1,tol,n0):\n",
    "    i=2\n",
    "    print('i\\t p0\\t\\t  p1\\t\\t      p\\t\\t\\t tolerance')\n",
    "    print('____________________________________________________________________________________')\n",
    "   \n",
    "    q0=f(p0)\n",
    "    q1=f(p1)\n",
    "    \n",
    "    while i<=n0:\n",
    "        p = p1-q1*(p1-p0)/(q1-q0)\n",
    "        print (i,p0,p1,p,abs(p-p1))\n",
    "        \n",
    "        if abs(p-p1) < tol:\n",
    "            print (p)\n",
    "            print('The procedure was successful')\n",
    "            return\n",
    "        \n",
    "        i+=1\n",
    "        q = f(p)\n",
    "        \n",
    "        if q*q1 < 0:\n",
    "            p0=p1\n",
    "            q0=q1\n",
    "        p1=p\n",
    "        q1=q\n",
    "    print ('The procedure was unsuccessful')"
   ]
  },
  {
   "cell_type": "code",
   "execution_count": 11,
   "metadata": {
    "collapsed": false
   },
   "outputs": [
    {
     "name": "stdout",
     "output_type": "stream",
     "text": [
      "i\t p0\t\t  p1\t\t      p\t\t\t tolerance\n",
      "____________________________________________________________________________________\n",
      "2 0.5 0.7857142857142857 0.7363661467075902 0.049348139006695546\n",
      "3 0.7857142857142857 0.7363661467075902 0.7390577782239036 0.002691631516313464\n",
      "4 0.7857142857142857 0.7390577782239036 0.7390848583944137 2.7080170510118684e-05\n",
      "5 0.7857142857142857 0.7390848583944137 0.7390851304542253 2.7205981156797066e-07\n",
      "6 0.7857142857142857 0.7390851304542253 0.7390851331874234 2.733198112281343e-09\n",
      "0.7390851331874234\n",
      "The procedure was successful\n"
     ]
    }
   ],
   "source": [
    "false(0.5,(22/7)/4,0.0000001,10)"
   ]
  },
  {
   "cell_type": "code",
   "execution_count": null,
   "metadata": {
    "collapsed": true
   },
   "outputs": [],
   "source": []
  }
 ],
 "metadata": {
  "kernelspec": {
   "display_name": "Python 3",
   "language": "python",
   "name": "python3"
  },
  "language_info": {
   "codemirror_mode": {
    "name": "ipython",
    "version": 3
   },
   "file_extension": ".py",
   "mimetype": "text/x-python",
   "name": "python",
   "nbconvert_exporter": "python",
   "pygments_lexer": "ipython3",
   "version": "3.6.0"
  }
 },
 "nbformat": 4,
 "nbformat_minor": 2
}
