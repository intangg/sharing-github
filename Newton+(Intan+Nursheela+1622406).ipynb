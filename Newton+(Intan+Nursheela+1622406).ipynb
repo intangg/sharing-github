{
 "cells": [
  {
   "cell_type": "code",
   "execution_count": 11,
   "metadata": {
    "collapsed": false
   },
   "outputs": [],
   "source": [
    "from math import cos\n",
    "from sympy import *\n",
    "import numpy as np\n",
    "\n",
    "def f(x):\n",
    "    k =np.cos(x) - x\n",
    "    return k\n",
    "\n",
    "def fprime(x):\n",
    "    y = Symbol('y')\n",
    "    k = cos(y) - y\n",
    "    fprime = k.diff(y)\n",
    "    z = lambdify(y, fprime, 'numpy')\n",
    "    j = z(x)\n",
    "    return j"
   ]
  },
  {
   "cell_type": "code",
   "execution_count": 16,
   "metadata": {
    "collapsed": true
   },
   "outputs": [],
   "source": [
    "def newton (p0,tol,n0):\n",
    "    i=1\n",
    "    print('i\\t p\\t\\t tolerance')\n",
    "    print('___________________________________________')\n",
    "    while i<=n0:\n",
    "        p = p0-(f(p0)/fprime(p0))\n",
    "        print (i,p,abs(p-p0))\n",
    "        \n",
    "        if abs(p-p0) < tol:\n",
    "            print (p)\n",
    "            print('The procedure was successful')\n",
    "            return p\n",
    "            break\n",
    "        i+=1\n",
    "        p0=p\n",
    "    print ('The procedure was unsuccessful')"
   ]
  },
  {
   "cell_type": "code",
   "execution_count": 17,
   "metadata": {
    "collapsed": false
   },
   "outputs": [
    {
     "name": "stdout",
     "output_type": "stream",
     "text": [
      "i\t p\t\t tolerance\n",
      "___________________________________________\n",
      "1 0.739542157743 0.0461721279717\n",
      "2 0.739085179313 0.0004569784296\n",
      "3 0.739085133215 4.60978244465e-08\n",
      "0.739085133215\n",
      "The procedure was successful\n"
     ]
    },
    {
     "data": {
      "text/plain": [
       "0.73908513321516112"
      ]
     },
     "execution_count": 17,
     "metadata": {},
     "output_type": "execute_result"
    }
   ],
   "source": [
    "newton ((22/7)/4,0.000001,50)"
   ]
  },
  {
   "cell_type": "code",
   "execution_count": null,
   "metadata": {
    "collapsed": true
   },
   "outputs": [],
   "source": []
  }
 ],
 "metadata": {
  "kernelspec": {
   "display_name": "Python 3",
   "language": "python",
   "name": "python3"
  },
  "language_info": {
   "codemirror_mode": {
    "name": "ipython",
    "version": 3
   },
   "file_extension": ".py",
   "mimetype": "text/x-python",
   "name": "python",
   "nbconvert_exporter": "python",
   "pygments_lexer": "ipython3",
   "version": "3.6.0"
  }
 },
 "nbformat": 4,
 "nbformat_minor": 2
}
